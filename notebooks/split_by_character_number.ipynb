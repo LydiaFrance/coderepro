{
 "cells": [
  {
   "cell_type": "code",
   "execution_count": 8,
   "metadata": {},
   "outputs": [],
   "source": [
    "from langchain_text_splitters import CharacterTextSplitter\n",
    "\n",
    "NCHAR_CHUNK=7000"
   ]
  },
  {
   "cell_type": "code",
   "execution_count": 17,
   "metadata": {},
   "outputs": [],
   "source": [
    "# Use this to split the text by new-line characters (if there are any)\n",
    "# to prevent it cutting off a line of code\n",
    "text_splitter = CharacterTextSplitter(\n",
    "    separator=\"\\n\\n\",\n",
    "    chunk_size=NCHAR_CHUNK,\n",
    "    chunk_overlap=0,\n",
    "    length_function=len,\n",
    "    is_separator_regex=False,\n",
    ")\n",
    "\n",
    "# Only read in N+1 characters as we only want \n",
    "# to keep the first chunk anyway\n",
    "def split_by_character_number(input_text, output_fname):\n",
    "    text_to_chunk = input_text[:NCHAR_CHUNK+1]\n",
    "    chunked_text = text_splitter.create_documents([text_to_chunk])\n",
    "    with open(output_fname, \"w\", encoding='utf-8') as f:\n",
    "        f.write(chunked_text[0].page_content)\n"
   ]
  },
  {
   "cell_type": "code",
   "execution_count": 18,
   "metadata": {},
   "outputs": [],
   "source": [
    "# Example usage\n",
    "with open('notebooks/fileStructure.py') as f:\n",
    "        file_to_chunk = f.read()\n",
    "\n",
    "split_by_character_number(file_to_chunk, 'temp_repo/chunked_fileStructure.txt')\n"
   ]
  }
 ],
 "metadata": {
  "kernelspec": {
   "display_name": "venv",
   "language": "python",
   "name": "python3"
  },
  "language_info": {
   "codemirror_mode": {
    "name": "ipython",
    "version": 3
   },
   "file_extension": ".py",
   "mimetype": "text/x-python",
   "name": "python",
   "nbconvert_exporter": "python",
   "pygments_lexer": "ipython3",
   "version": "3.10.12"
  }
 },
 "nbformat": 4,
 "nbformat_minor": 2
}
