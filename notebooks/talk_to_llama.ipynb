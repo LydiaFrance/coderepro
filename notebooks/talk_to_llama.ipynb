{
 "cells": [
  {
   "cell_type": "code",
   "execution_count": 8,
   "metadata": {},
   "source": [
    "from ollama import Client\n",
    "client = Client(host='http://localhost:11434')\n",
    "\n",
    "\n",
    "\n",
    "def talk_to_llama(context, prompt):\n",
    "  concat = f\"CONTEXT: {context} \\n INSTRUCTIONS: {prompt}\"\n",
    "  response = client.chat(model='llama3', messages=[\n",
    "    {\n",
    "      'role': 'user',\n",
    "      'content': concat,\n",
    "    },\n",
    "  ])\n",
    "  return response[\"message\"][\"content\"]\n",
    "\n",
    "talk_to_llama(\"I am a software engineer\", \"What is the best programming language?\")"
   ],
   "outputs": []
  }
 ],
 "metadata": {
  "kernelspec": {
   "display_name": "venv",
   "language": "python",
   "name": "python3"
  },
  "language_info": {
   "codemirror_mode": {
    "name": "ipython",
    "version": 3
   },
   "file_extension": ".py",
   "mimetype": "text/x-python",
   "name": "python",
   "nbconvert_exporter": "python",
   "pygments_lexer": "ipython3",
   "version": "3.12.3"
  }
 },
 "nbformat": 4,
 "nbformat_minor": 2
}
