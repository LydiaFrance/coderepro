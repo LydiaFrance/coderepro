{
 "cells": [
  {
   "cell_type": "code",
   "execution_count": 8,
   "metadata": {},
   "outputs": [
    {
     "data": {
      "text/plain": [
       "'A question that can spark a lively debate!\\n\\nAs a software engineer, you\\'re probably familiar with the various programming languages out there. The \"best\" language ultimately depends on several factors, including:\\n\\n1. **Your goals**: Are you building a web application, a mobile app, or a desktop program? Different languages excel in different areas.\\n2. **Your experience**: If you\\'re new to programming, you might want to start with a more accessible language like Python or JavaScript. If you have experience, you may prefer a language that leverages your existing knowledge.\\n3. **The problem domain**: Certain languages are better suited for specific domains, such as machine learning (e.g., TensorFlow in Python), data analysis (e.g., R), or web development (e.g., JavaScript).\\n\\nThat being said, here are some of the most popular and versatile programming languages:\\n\\n1. **Python**:\\n\\t* Easy to learn and use.\\n\\t* Versatile: web development (Django, Flask), scientific computing (NumPy, pandas), data analysis (pandas, scikit-learn).\\n\\t* Large community and plenty of libraries and frameworks.\\n2. **JavaScript**:\\n\\t* Ubiquitous in web development (client-side scripting) and mobile app development (React Native, Angular Mobile).\\n\\t* Also used for server-side programming with Node.js.\\n\\t* Dynamic typing and flexible syntax make it a great choice for rapid prototyping.\\n3. **Java**:\\n\\t* Popular for Android app development, enterprise software, and web applications.\\n\\t* Strongly typed and object-oriented, making it suitable for large-scale projects.\\n4. **C++**:\\n\\t* Performance-oriented: games, high-performance computing, and systems programming.\\n\\t* Not as easy to learn as some other languages, but rewarding for those who invest the time.\\n5. **Go** (Golang):\\n\\t* Designed by Google for concurrent and scalable software development.\\n\\t* Growing popularity in cloud computing, networking, and web development.\\n6. **Swift**:\\n\\t* Apple\\'s language for developing iOS, macOS, watchOS, and tvOS apps.\\n\\t* Easy to learn and use, with a strong focus on modern app development.\\n\\nUltimately, the \"best\" programming language is one that:\\n\\n1. You enjoy working with.\\n2. Suits your specific needs and goals.\\n3. Has an active community and plenty of resources available.\\n\\nSo, what\\'s your favorite programming language?'"
      ]
     },
     "execution_count": 8,
     "metadata": {},
     "output_type": "execute_result"
    }
   ],
   "source": [
    "from ollama import Client\n",
    "client = Client(host='http://localhost:11434')\n",
    "\n",
    "\n",
    "\n",
    "def talk_to_llama(context, prompt):\n",
    "  concat = f\"CONTEXT: {context} \\n INSTRUCTIONS: {prompt}\"\n",
    "  response = client.chat(model='llama3', messages=[\n",
    "    {\n",
    "      'role': 'user',\n",
    "      'content': concat,\n",
    "    },\n",
    "  ])\n",
    "  return response[\"message\"][\"content\"]\n",
    "\n",
    "talk_to_llama(\"I am a software engineer\", \"What is the best programming language?\")"
   ]
  }
 ],
 "metadata": {
  "kernelspec": {
   "display_name": "venv",
   "language": "python",
   "name": "python3"
  },
  "language_info": {
   "codemirror_mode": {
    "name": "ipython",
    "version": 3
   },
   "file_extension": ".py",
   "mimetype": "text/x-python",
   "name": "python",
   "nbconvert_exporter": "python",
   "pygments_lexer": "ipython3",
   "version": "3.12.3"
  }
 },
 "nbformat": 4,
 "nbformat_minor": 2
}
